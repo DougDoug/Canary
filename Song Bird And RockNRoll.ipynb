{
 "cells": [
  {
   "cell_type": "markdown",
   "metadata": {},
   "source": [
    "# Analysis of the structure of canarys birdsong"
   ]
  },
  {
   "cell_type": "markdown",
   "metadata": {},
   "source": [
    "## Aim and introduction \n",
    "\n",
    "\n",
    "*How do you define the canary birdsong ?*\n",
    "\n",
    "The [canary birdsong](https://www.youtube.com/watch?v=m86rRjlPuRA) is built on repetitions of sentences which are themselves defined by syllables repetitions. We so have a song composed of several sentences, and each sentences is composed by several more or less identical syllables.\n",
    "\n",
    "\n",
    "*But why especially choosing the canary ?*\n",
    "\n",
    "The repertory and the structure of the canary's songs is function of the period of the year. During the mating season (i.e. summer) the vocabulary of the canary expend and then crystallize at it's paroxism. But after the mating season, the repertory become flexible and impoverishes. From this behavior raise a few questions :\n",
    "\n",
    "- What are the neuroscience fact that are underlying such a variation ?\n",
    "- Why the structure is changing and thus, what define the structure of the birdsong ?\n",
    "- Can we predict or approach the structure of a special birdsong ? of all birdsongs ?\n",
    "\n",
    "\n",
    "*This seems quite big, are you sure you can handle it by yourself?*\n",
    "\n",
    "Of course not, I'm a 3 months intern at Inria Bordeaux Sud-Ouest in the Team Mnemosyne and my aim is to find some indicator that might help predict the canary behavior. My research are oriented to find ** *chunks* **. A chunk is a group of sentences which are strongly linked together. And after few hours of listening birdsong I alos noticed that there were few traces of [musicality in birdsong](http://www.sciencedirect.com/science/article/pii/S0378595513002141). So we're looking for repetitive group of muscial sentences... We're basically looking for some ** *riff* ** !"
   ]
  },
  {
   "cell_type": "markdown",
   "metadata": {},
   "source": [
    "## Summary\n",
    "\n",
    "- **[How to build a syllable from scratches](http://localhost:8888/notebooks/LouisDevers/Codes/syllable.ipynb)**\n",
    "\n",
    "- **[Descriptive statistics]()**\n",
    "- **[Elements of musicality]()**\n",
    "- **[Can we consider a *chunk* as a *riff* ?]()**\n",
    "- **[Conclusion]()**\n",
    "- **[References]()**"
   ]
  },
  {
   "cell_type": "code",
   "execution_count": null,
   "metadata": {
    "collapsed": true
   },
   "outputs": [],
   "source": []
  }
 ],
 "metadata": {
  "kernelspec": {
   "display_name": "Python 2",
   "language": "python",
   "name": "python2"
  },
  "language_info": {
   "codemirror_mode": {
    "name": "ipython",
    "version": 2
   },
   "file_extension": ".py",
   "mimetype": "text/x-python",
   "name": "python",
   "nbconvert_exporter": "python",
   "pygments_lexer": "ipython2",
   "version": "2.7.11"
  }
 },
 "nbformat": 4,
 "nbformat_minor": 0
}
