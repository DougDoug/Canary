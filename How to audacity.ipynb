{
 "cells": [
  {
   "cell_type": "markdown",
   "metadata": {},
   "source": [
    "## How to Label a syllable on Audacity\n",
    "\n",
    "You first have to create a label track in the track option of the toolbar.\n",
    "Then, note that the tracks are not linked to any specific track, you so have to write specific names on the labels you're working on.\n",
    "\n",
    "You might have to zoom, I mean a lot. Select your wanted area, then press \"*ctrl+B*\" to create a label then name it. \n",
    "You might reproduce the same text over and over, some syllable are indeed quite repetitve. I advise you to copy your label and to paste it over and over. This might be a bit painfull because of the repetitions between \"*ctrl+B*\" and \"*ctrl+V*\".\n",
    "\n",
    "If you aim to make a csv file with those, note that the csv file is firstly sorted by an alphabetical order considering the text of the label. In a second place the labels are sorted on the time limitations you put on them.\n",
    "\n",
    "You'll have on the first collumn the label, on the second, the moment when your label begins, and the third collumn the moment when your label ends.\n",
    "\n",
    "You can also add ponctual labels that only have a start moment.\n",
    "\n",
    "[For further lecture](http://manual.audacityteam.org/man/label_tracks.html)"
   ]
  },
  {
   "cell_type": "markdown",
   "metadata": {},
   "source": [
    "[get back to the syllable analysis](http://localhost:8888/notebooks/LouisDevers/Codes/syllable.ipynb#)"
   ]
  },
  {
   "cell_type": "markdown",
   "metadata": {},
   "source": [
    "[get back to the Canary](http://localhost:8888/notebooks/LouisDevers/Codes/Song%20Bird%20And%20RockNRoll.ipynb)"
   ]
  },
  {
   "cell_type": "code",
   "execution_count": null,
   "metadata": {
    "collapsed": true
   },
   "outputs": [],
   "source": []
  }
 ],
 "metadata": {
  "kernelspec": {
   "display_name": "Python 2",
   "language": "python",
   "name": "python2"
  },
  "language_info": {
   "codemirror_mode": {
    "name": "ipython",
    "version": 2
   },
   "file_extension": ".py",
   "mimetype": "text/x-python",
   "name": "python",
   "nbconvert_exporter": "python",
   "pygments_lexer": "ipython2",
   "version": "2.7.11"
  }
 },
 "nbformat": 4,
 "nbformat_minor": 0
}
